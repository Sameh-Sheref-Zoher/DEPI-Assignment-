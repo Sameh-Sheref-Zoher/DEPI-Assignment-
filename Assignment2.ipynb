{
 "cells": [
  {
   "cell_type": "markdown",
   "metadata": {
    "vscode": {
     "languageId": "plaintext"
    }
   },
   "source": [
    "\n",
    "### **Q1.  Text Analyzer**\n",
    "\n",
    "* **Objective:**  Create a program that analyzes text for various characteristics. \n",
    "* **Requirements:**\n",
    "    * Ask the user to input a paragraph of text.\n",
    "    * Use loops to:\n",
    "        * Count the number of words in the text.\n",
    "        * Count the number of sentences in the text.\n",
    "        * Calculate the average word length.\n",
    "        * Find the most frequently used word in the text.\n",
    "        * (Optional) Identify the five most common words. \n",
    "* **Hint:** You'll need to use string manipulation techniques (like splitting the text into words and sentences) along with loop logic to track counts and comparisons.\n",
    "\n",
    ">**You can test the code using thi paragraph:** \"Python is a high-level, interpreted programming language. It's dynamically typed, meaning you don't have to explicitly declare the type of a variable. It's widely used for web development, data analysis, machine learning, and automation. Python is known for its readability and ease of use.\"\n"
   ]
  },
  {
   "cell_type": "code",
   "execution_count": 11,
   "metadata": {},
   "outputs": [
    {
     "name": "stdout",
     "output_type": "stream",
     "text": [
      "Word Count: 44\n",
      "Sentence Count: 4\n",
      "Average Sentence Length: 11.0\n",
      "python: 2\n",
      "is: 2\n",
      "a: 2\n",
      "it's: 2\n",
      "of: 2\n",
      "['python', 'is', 'a', 'high-level', 'interpreted', 'programming', 'language', \"it's\", 'dynamically', 'typed', 'meaning', 'you', \"don't\", 'have', 'to', 'explicitly', 'declare', 'the', 'type', 'of', 'a', 'variable', \"it's\", 'widely', 'used', 'for', 'web', 'development', 'data', 'analysis', 'machine', 'learning', 'and', 'automation', 'python', 'is', 'known', 'for', 'its', 'readability', 'and', 'ease', 'of', 'use']\n"
     ]
    }
   ],
   "source": [
    "paragraph = input('Enter your paragraph:')\n",
    "words = paragraph.lower().split()\n",
    "\n",
    "word_counts = {}\n",
    "sentence_counter = 0\n",
    "\n",
    "for i in range(len(words)):\n",
    "    if words[i].endswith('.') or words[i].endswith('!') or words[i].endswith('?'):\n",
    "        words[i] = words[i][:-1]\n",
    "        sentence_counter += 1\n",
    "    elif words[i].endswith(','):\n",
    "        words[i] = words[i][:-1]\n",
    "    \n",
    "    if words[i] in word_counts:\n",
    "        word_counts[words[i]] += 1\n",
    "    else:\n",
    "        word_counts[words[i]] = 1\n",
    "\n",
    "print('Word Count:', len(words))\n",
    "print('Sentence Count:', sentence_counter)\n",
    "print('Average Sentence Length:', len(words) / sentence_counter)\n",
    "\n",
    "sorted_words = sorted(word_counts.items(), key=lambda item: item[1], reverse=True)\n",
    "\n",
    "for word, count in sorted_words[:5]:\n",
    "    print(f\"{word}: {count}\")\n",
    "print(words)"
   ]
  },
  {
   "cell_type": "markdown",
   "metadata": {},
   "source": [
    "You're right!  The instructions for calculating variance and standard deviation are a bit off. Here's the corrected and summarized version, along with the necessary code:\n",
    "\n",
    "**2.  Q2- Basic Statistics Calculator**\n",
    "\n",
    "**Objective:** Create a Python program that calculates basic statistics (mean, median, mode, range, variance, and standard deviation) for a set of numbers entered by the user.\n",
    "\n",
    "**Requirements:**\n",
    "\n",
    "1. **Input Handling:**\n",
    "   - Write a `while` loop that:\n",
    "     - Continuously prompts the user to enter a number.\n",
    "     - Adds each entered number to a list called `numbers`.\n",
    "     - Stops when the user enters the word \"done\" (case-insensitive).\n",
    "\n",
    "2. **Mean Calculation:**\n",
    "   - If the `numbers` list is not empty, calculate the mean of the numbers in the list.\n",
    "   - Print the mean using an f-string.\n",
    "\n",
    "3. **Median Calculation:**\n",
    "   - Sort the `numbers` list in ascending order.\n",
    "   - Calculate the median.\n",
    "   - Print the median using an f-string.\n",
    "\n",
    "4. **Mode Calculation (Simple):**\n",
    "   - Calculate the mode (the most frequently occurring number).\n",
    "   - Print the mode using an f-string.\n",
    "\n",
    "5. **Variance Calculation:**\n",
    "   - Calculate the variance of the numbers in the list.\n",
    "   - Print the variance using an f-string.\n",
    "\n",
    "6. **Standard Deviation Calculation:**\n",
    "   - Calculate the standard deviation of the numbers in the list.\n",
    "   - Print the standard deviation using an f-string.\n",
    "\n",
    "7. **Range Calculation:**\n",
    "   - Calculate the range.\n",
    "   - Print the range using an f-string.\n",
    "\n",
    "8. **IQR Calculation:**\n",
    "   - Calculate the range.\n",
    "   - Print the range using an f-string.\n",
    "\n",
    "9. **Skewness Calculation (Optional):**\n",
    "   - Calculate the range.\n",
    "   - Print the range using an f-string.\n",
    "\n",
    "10. **Error Handling (Optional):**\n",
    "   -  (Optional) Add a `try-except` block to handle invalid input (e.g., non-numeric values). If invalid input is detected, print an error message and prompt the user to enter a valid number."
   ]
  },
  {
   "cell_type": "code",
   "execution_count": null,
   "metadata": {},
   "outputs": [
    {
     "name": "stdout",
     "output_type": "stream",
     "text": [
      "Mean: 5.29\n",
      "Median: 5.00\n",
      "Mode: 5.0\n",
      "Variance: 4.57\n",
      "Standard Deviation: 2.14\n",
      "Range: 6.00\n",
      "IQR (Interquartile Range): 4.00\n"
     ]
    }
   ],
   "source": [
    "import statistics\n",
    "\n",
    "numbers = []\n",
    "\n",
    "while True:\n",
    "    user_input = input(\"Enter a number (or type 'done' to finish): \").strip().lower()\n",
    "    if user_input == 'done':\n",
    "        break\n",
    "    try:\n",
    "        num = float(user_input)\n",
    "        numbers.append(num)\n",
    "    except ValueError:\n",
    "        print(\"Please enter a valid number.\")\n",
    "\n",
    "\n",
    "if numbers:\n",
    "    mean = sum(numbers) / len(numbers)\n",
    "    print(f\"Mean: {mean:.2f}\")\n",
    "#######################################\n",
    "    numbers_sorted = sorted(numbers)\n",
    "    n = len(numbers_sorted)\n",
    "    if n % 2 == 1:\n",
    "        median = numbers_sorted[n // 2]\n",
    "    else:\n",
    "        median = (numbers_sorted[n // 2 - 1] + numbers_sorted[n // 2]) / 2\n",
    "    print(f\"Median: {median:.2f}\")\n",
    "#######################################\n",
    "    try:\n",
    "        mode = statistics.mode(numbers)\n",
    "        print(f\"Mode: {mode}\")\n",
    "    except statistics.StatisticsError:\n",
    "        print(\"multiple values with the same frequency.\")\n",
    "#######################################\n",
    "    variance = statistics.variance(numbers)\n",
    "    print(f\"Variance: {variance:.2f}\")\n",
    "#######################################\n",
    "    std_dev = statistics.stdev(numbers)\n",
    "    print(f\"Standard Deviation: {std_dev:.2f}\")\n",
    "#######################################\n",
    "    range_value = max(numbers) - min(numbers)\n",
    "    print(f\"Range: {range_value:.2f}\")\n",
    "#######################################\n",
    "    numbers_sorted = sorted(numbers)\n",
    "    n = len(numbers_sorted)\n",
    "    q1 = numbers_sorted[n // 4]\n",
    "    q3 = numbers_sorted[(3 * n) // 4]  \n",
    "    iqr = q3 - q1\n",
    "    print(f\"IQR (Interquartile Range): {iqr:.2f}\")\n",
    "else:\n",
    "    print(\"No numbers were entered. Please try again.\")"
   ]
  },
  {
   "cell_type": "code",
   "execution_count": null,
   "metadata": {},
   "outputs": [],
   "source": []
  }
 ],
 "metadata": {
  "kernelspec": {
   "display_name": "Python 3",
   "language": "python",
   "name": "python3"
  },
  "language_info": {
   "codemirror_mode": {
    "name": "ipython",
    "version": 3
   },
   "file_extension": ".py",
   "mimetype": "text/x-python",
   "name": "python",
   "nbconvert_exporter": "python",
   "pygments_lexer": "ipython3",
   "version": "3.12.0"
  }
 },
 "nbformat": 4,
 "nbformat_minor": 2
}
