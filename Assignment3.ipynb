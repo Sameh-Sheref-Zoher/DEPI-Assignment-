{
 "cells": [
  {
   "cell_type": "markdown",
   "metadata": {},
   "source": [
    "# Assignment 3: Higher-Order Functions\n",
    "---\n",
    "Welcome to Assignment3, where we delve deeper into the power of higher-order functions in Python, focusing on their applications in data science and machine learning.\n",
    "\n",
    "In this assignment, you'll explore how these functions can be used to transform data, identify outliers, engineer features, and ultimately prepare your datasets for building robust machine learning models.\n",
    "\n",
    "#### General Instructions \n",
    "\n",
    "For all questions, please adhere to the following guidelines:\n",
    "\n",
    "- **Code Clarity:** Your code should be well-formatted, easy to understand, and include meaningful variable names.\n",
    "- **Docstrings:**  Use docstrings to document your functions and explain their purpose, arguments, and return values.\n",
    "- **Testing:**  Use the same given data example of your code to demonstrate its functionality."
   ]
  },
  {
   "cell_type": "markdown",
   "metadata": {},
   "source": [
    "---\n",
    "## Q1. Scaling Features with `map()`\n",
    "\n",
    "**Task:**\n",
    "\n",
    "Create a function to scale a list of features to a range between 0 and 1. \n",
    "\n",
    "**Requirements:**\n",
    "\n",
    "- **Function:**  Define a function or use an anonymous function (lambda).\n",
    "- **Scaling Formula:** The function should scale each feature value using the formula:\n",
    "  ```python\n",
    "  (feature - min_val) / (max_val - min_val)\n",
    "  ```\n",
    "  where `min_val` and `max_val` are the minimum and maximum values in the input list.\n",
    "- **`map()` Function:** Utilize the `map()` function to apply the scaling function to every element in the list.\n",
    "\n",
    "**Output:** \n",
    "\n",
    "Return a new list containing the scaled feature values."
   ]
  },
  {
   "cell_type": "code",
   "execution_count": 44,
   "metadata": {},
   "outputs": [
    {
     "name": "stdout",
     "output_type": "stream",
     "text": [
      "['0.13', '0.26', '0.50', '0.00', '0.78', '0.69', '0.56', '1.00']\n"
     ]
    }
   ],
   "source": [
    "# TODO: Define a function that scales a feature between 0 and 1\n",
    "def scale_feature(x, min, max):\n",
    "    return (x - min) / (max - min)\n",
    "\n",
    "# Simulated feature data (age feature)\n",
    "age_feature = [25, 32, 45, 18, 60, 55, 48, 72]\n",
    "\n",
    "# TODO: Find the minimum and maximum values\n",
    "min_val = min(age_feature)\n",
    "max_val = max(age_feature)\n",
    "\n",
    "# TODO: Scale each feature using your function and map\n",
    "# usingd lambda function\n",
    "scaled_feature_1 = list(map(lambda x: (x-min_val)/(max_val-min_val), age_feature))\n",
    "#using sacle_feature function\n",
    "scaled_feature_2 = map(lambda x: scale_feature(x, min_val, max_val), age_feature)\n",
    "# TODO: Print the scaled features to verify the output\n",
    "print([f\"{x:.2f}\" for x in scaled_feature_1])"
   ]
  },
  {
   "cell_type": "markdown",
   "metadata": {},
   "source": [
    "---\n",
    "## Q2. Filtering Outliers\n",
    "\n",
    "\n",
    "The basic approach is to identify potential outliers based on a defined threshold. A common method is to use the **Interquartile Range (IQR)**. Here's how it works:\n",
    "\n",
    "1. **Calculate the IQR:**\n",
    "   - Find the first quartile (Q1) and the third quartile (Q3) of the list.\n",
    "   - IQR = Q3 - Q1.\n",
    "\n",
    "2. **Define Outlier Boundaries:**\n",
    "   - Lower Boundary: Q1 - 1.5 * IQR\n",
    "   - Upper Boundary: Q3 + 1.5 * IQR\n",
    "\n",
    "3. **Filter the List:**\n",
    "   - Remove any values that fall outside the calculated boundaries."
   ]
  },
  {
   "cell_type": "code",
   "execution_count": 45,
   "metadata": {},
   "outputs": [
    {
     "name": "stdout",
     "output_type": "stream",
     "text": [
      "Q1: 20\n",
      "Q2: 21\n",
      "Q3: 23\n",
      "IQR: 3\n"
     ]
    }
   ],
   "source": [
    "# Simulated data for temperatures\n",
    "temperatures = [23, 25, 20, 23, -5, 21, 18, 19, 24, 21,19, 24, 0, \n",
    "                20, 24, 55, 22, 50, 22, 20, 21, 22, 20, 25, 19, \n",
    "                22, 26, 23, 21, 23, 17, 20, 18]\n",
    "\n",
    "# TODO: Define a function to calculate percentiles (Q1, Q2, Q3)\n",
    "def percentiles(data, percentile):\n",
    "    data.sort()\n",
    "    x = int(len(data) * percentile / 100)\n",
    "    return data[x]\n",
    "\n",
    "# TODO: Calculate Q1 by calling the function with percentile=25\n",
    "q1 = percentiles(temperatures, 25)\n",
    "print(\"Q1:\", q1)\n",
    "\n",
    "# TODO: Calculate Q1 by calling the function with percentile=50\n",
    "q2 = percentiles(temperatures, 50) \n",
    "print(\"Q2:\", q2)\n",
    "\n",
    "# TODO: Calculate Q1 by calling the function with percentile=75\n",
    "q3 = percentiles(temperatures, 75)\n",
    "print(\"Q3:\", q3)\n",
    "\n",
    "# TODO: Calculate IQR by subtracting Q1 from Q3\n",
    "iqr = q3 - q1\n",
    "print(\"IQR:\", iqr)"
   ]
  },
  {
   "cell_type": "markdown",
   "metadata": {},
   "source": [
    "**Define the lower and upper bounds for outliers**"
   ]
  },
  {
   "cell_type": "code",
   "execution_count": 46,
   "metadata": {},
   "outputs": [
    {
     "name": "stdout",
     "output_type": "stream",
     "text": [
      "Lower Bound: 15.5\n",
      "Upper Bound: 18.5\n"
     ]
    }
   ],
   "source": [
    "# TODO: Calculate lower bound using formula: Q1 - 1.5 * IQR\n",
    "lower_bound = q1 - 1.5 * iqr\n",
    "print(\"Lower Bound:\", lower_bound)\n",
    "\n",
    "# TODO: Calculate upper bound using formula: Q3 + 1.5 * IQR\n",
    "upper_bound = q3 - 1.5 * iqr\n",
    "print(\"Upper Bound:\", upper_bound)\n"
   ]
  },
  {
   "cell_type": "markdown",
   "metadata": {},
   "source": [
    "**Filter the outliers**"
   ]
  },
  {
   "cell_type": "code",
   "execution_count": 47,
   "metadata": {},
   "outputs": [
    {
     "data": {
      "text/plain": [
       "[17, 18, 18]"
      ]
     },
     "execution_count": 47,
     "metadata": {},
     "output_type": "execute_result"
    }
   ],
   "source": [
    "# TODO: Create a list comprehension that only includes values between the bounds\n",
    "\n",
    "filtered_temperatures = [x for x in temperatures if x >= lower_bound and x <= upper_bound]\n",
    "filtered_temperatures"
   ]
  },
  {
   "cell_type": "markdown",
   "metadata": {},
   "source": [
    "**Output the results**"
   ]
  },
  {
   "cell_type": "code",
   "execution_count": 48,
   "metadata": {},
   "outputs": [
    {
     "name": "stdout",
     "output_type": "stream",
     "text": [
      "Original Temperatures: [-5, 0, 17, 18, 18, 19, 19, 19, 20, 20, 20, 20, 20, 21, 21, 21, 21, 22, 22, 22, 22, 23, 23, 23, 23, 24, 24, 24, 25, 25, 26, 50, 55]\n",
      "Filtered Temperatures: [17, 18, 18]\n"
     ]
    }
   ],
   "source": [
    "print(\"Original Temperatures:\", temperatures)\n",
    "print(\"Filtered Temperatures:\", filtered_temperatures)"
   ]
  },
  {
   "cell_type": "markdown",
   "metadata": {},
   "source": [
    "---\n",
    "## Q3: Outlier Removal Function\n",
    "\n",
    "Take the outlier filtering steps from the previous explanation (Q2) and encapsulate them into a reusable function. This function should be designed to be easily applied to different festures for consistent outlier removal and analysis."
   ]
  },
  {
   "cell_type": "code",
   "execution_count": 49,
   "metadata": {},
   "outputs": [],
   "source": [
    "# Simulated data \n",
    "temperatures = [23, 25, 23, -5, 18, 19, 24, 21, 19, 24, 0, \n",
    "                24, 55, 50, 20, 25, 22, 26, 23, 17, 18]\n",
    "\n",
    "humidity = [60, 65, 72, 68, 75, 80, 82, 78, 62, 68, 71, \n",
    "            69, 77, 81, 79, 64, 69, 67,  74, 68, 75, 100] "
   ]
  },
  {
   "cell_type": "code",
   "execution_count": 50,
   "metadata": {},
   "outputs": [],
   "source": [
    "# TODO: Define a function to retraive only data without outliers. Use the previous percentiles function\n",
    "def remove_outliers(data):\n",
    "\n",
    "    q1 = percentiles(data, 25)\n",
    "    q3 = percentiles(data, 75)\n",
    "    iqr = q3 - q1\n",
    "    \n",
    "    lower_bound = q1 - 1.5 * iqr\n",
    "    upper_bound = q3 - 1.5 * iqr\n",
    "    \n",
    "    filtered_data = [x for x in data if lower_bound <= x <= upper_bound]\n",
    "    return filtered_data\n"
   ]
  },
  {
   "cell_type": "code",
   "execution_count": 51,
   "metadata": {},
   "outputs": [],
   "source": [
    "# TODO: Apply the defined function to retraive only data without outliers. \n",
    "\n",
    "filtered_temperatures = remove_outliers(temperatures)\n",
    "filtered_humidity = remove_outliers(humidity)"
   ]
  },
  {
   "cell_type": "markdown",
   "metadata": {},
   "source": [
    "**Output the results**"
   ]
  },
  {
   "cell_type": "code",
   "execution_count": 52,
   "metadata": {},
   "outputs": [
    {
     "name": "stdout",
     "output_type": "stream",
     "text": [
      "Original Temperatures: [-5, 0, 17, 18, 18, 19, 19, 20, 21, 22, 23, 23, 23, 24, 24, 24, 25, 25, 26, 50, 55]\n",
      "Filtered Temperatures: []\n",
      "==============================================================================================================\n",
      "Original Humidity: [60, 62, 64, 65, 67, 68, 68, 68, 69, 69, 71, 72, 74, 75, 75, 77, 78, 79, 80, 81, 82, 100]\n",
      "Filtered Humidity: [60, 62]\n"
     ]
    }
   ],
   "source": [
    "print(\"Original Temperatures:\", sorted(temperatures))\n",
    "print(\"Filtered Temperatures:\", filtered_temperatures)\n",
    "print('='*110)\n",
    "print(\"Original Humidity:\", sorted(humidity))\n",
    "print(\"Filtered Humidity:\", filtered_humidity)"
   ]
  }
 ],
 "metadata": {
  "kernelspec": {
   "display_name": "Python 3",
   "language": "python",
   "name": "python3"
  },
  "language_info": {
   "codemirror_mode": {
    "name": "ipython",
    "version": 3
   },
   "file_extension": ".py",
   "mimetype": "text/x-python",
   "name": "python",
   "nbconvert_exporter": "python",
   "pygments_lexer": "ipython3",
   "version": "3.12.0"
  }
 },
 "nbformat": 4,
 "nbformat_minor": 2
}
